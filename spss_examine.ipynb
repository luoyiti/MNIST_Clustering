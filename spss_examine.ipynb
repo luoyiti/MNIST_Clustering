{
 "cells": [
  {
   "cell_type": "markdown",
   "id": "7a00fe2c",
   "metadata": {},
   "source": [
    "# 二阶聚类"
   ]
  },
  {
   "cell_type": "code",
   "execution_count": 11,
   "id": "bdc78393",
   "metadata": {},
   "outputs": [
    {
     "data": {
      "text/html": [
       "<div>\n",
       "<style scoped>\n",
       "    .dataframe tbody tr th:only-of-type {\n",
       "        vertical-align: middle;\n",
       "    }\n",
       "\n",
       "    .dataframe tbody tr th {\n",
       "        vertical-align: top;\n",
       "    }\n",
       "\n",
       "    .dataframe thead th {\n",
       "        text-align: right;\n",
       "    }\n",
       "</style>\n",
       "<table border=\"1\" class=\"dataframe\">\n",
       "  <thead>\n",
       "    <tr style=\"text-align: right;\">\n",
       "      <th></th>\n",
       "      <th>x</th>\n",
       "      <th>y</th>\n",
       "      <th>label</th>\n",
       "      <th>TSC_3227</th>\n",
       "    </tr>\n",
       "  </thead>\n",
       "  <tbody>\n",
       "    <tr>\n",
       "      <th>0</th>\n",
       "      <td>36.364452</td>\n",
       "      <td>0.234396</td>\n",
       "      <td>5.0</td>\n",
       "      <td>9</td>\n",
       "    </tr>\n",
       "    <tr>\n",
       "      <th>1</th>\n",
       "      <td>73.174667</td>\n",
       "      <td>40.009937</td>\n",
       "      <td>0.0</td>\n",
       "      <td>7</td>\n",
       "    </tr>\n",
       "    <tr>\n",
       "      <th>2</th>\n",
       "      <td>29.087975</td>\n",
       "      <td>-72.028297</td>\n",
       "      <td>4.0</td>\n",
       "      <td>2</td>\n",
       "    </tr>\n",
       "    <tr>\n",
       "      <th>3</th>\n",
       "      <td>-62.729225</td>\n",
       "      <td>47.904079</td>\n",
       "      <td>1.0</td>\n",
       "      <td>5</td>\n",
       "    </tr>\n",
       "    <tr>\n",
       "      <th>4</th>\n",
       "      <td>-16.324730</td>\n",
       "      <td>-41.660793</td>\n",
       "      <td>9.0</td>\n",
       "      <td>-1</td>\n",
       "    </tr>\n",
       "  </tbody>\n",
       "</table>\n",
       "</div>"
      ],
      "text/plain": [
       "           x          y  label  TSC_3227\n",
       "0  36.364452   0.234396    5.0         9\n",
       "1  73.174667  40.009937    0.0         7\n",
       "2  29.087975 -72.028297    4.0         2\n",
       "3 -62.729225  47.904079    1.0         5\n",
       "4 -16.324730 -41.660793    9.0        -1"
      ]
     },
     "execution_count": 11,
     "metadata": {},
     "output_type": "execute_result"
    }
   ],
   "source": [
    "import pandas as pd\n",
    "import numpy as np\n",
    "two_factor = pd.read_csv('spss_examine/two_factor_cluster.csv')\n",
    "two_factor.head()"
   ]
  },
  {
   "cell_type": "code",
   "execution_count": 13,
   "id": "acc8852d",
   "metadata": {},
   "outputs": [
    {
     "data": {
      "text/plain": [
       "{1: 7.0,\n",
       " 2: 4.0,\n",
       " 3: 8.0,\n",
       " 4: 2.0,\n",
       " 5: 1.0,\n",
       " 6: 1.0,\n",
       " 7: 0.0,\n",
       " 8: 3.0,\n",
       " 9: 5.0,\n",
       " 10: 6.0}"
      ]
     },
     "execution_count": 13,
     "metadata": {},
     "output_type": "execute_result"
    }
   ],
   "source": [
    "mapped_clusters = {}\n",
    "for cluster_id in range(1, 11):\n",
    "    cluster = two_factor[two_factor['TSC_3227'] == cluster_id]['label'].tolist()\n",
    "    most_frequent = max(set(cluster), key=cluster.count)\n",
    "    mapped_clusters[cluster_id] = most_frequent\n",
    "mapped_clusters"
   ]
  },
  {
   "cell_type": "code",
   "execution_count": 16,
   "id": "0ed8ea43",
   "metadata": {},
   "outputs": [
    {
     "data": {
      "text/html": [
       "<div>\n",
       "<style scoped>\n",
       "    .dataframe tbody tr th:only-of-type {\n",
       "        vertical-align: middle;\n",
       "    }\n",
       "\n",
       "    .dataframe tbody tr th {\n",
       "        vertical-align: top;\n",
       "    }\n",
       "\n",
       "    .dataframe thead th {\n",
       "        text-align: right;\n",
       "    }\n",
       "</style>\n",
       "<table border=\"1\" class=\"dataframe\">\n",
       "  <thead>\n",
       "    <tr style=\"text-align: right;\">\n",
       "      <th></th>\n",
       "      <th>x</th>\n",
       "      <th>y</th>\n",
       "      <th>label</th>\n",
       "      <th>TSC_3227</th>\n",
       "    </tr>\n",
       "  </thead>\n",
       "  <tbody>\n",
       "    <tr>\n",
       "      <th>0</th>\n",
       "      <td>36.364452</td>\n",
       "      <td>0.234396</td>\n",
       "      <td>5.0</td>\n",
       "      <td>1</td>\n",
       "    </tr>\n",
       "    <tr>\n",
       "      <th>1</th>\n",
       "      <td>73.174667</td>\n",
       "      <td>40.009937</td>\n",
       "      <td>0.0</td>\n",
       "      <td>0</td>\n",
       "    </tr>\n",
       "    <tr>\n",
       "      <th>2</th>\n",
       "      <td>29.087975</td>\n",
       "      <td>-72.028297</td>\n",
       "      <td>4.0</td>\n",
       "      <td>2</td>\n",
       "    </tr>\n",
       "    <tr>\n",
       "      <th>3</th>\n",
       "      <td>-62.729225</td>\n",
       "      <td>47.904079</td>\n",
       "      <td>1.0</td>\n",
       "      <td>7</td>\n",
       "    </tr>\n",
       "    <tr>\n",
       "      <th>4</th>\n",
       "      <td>-16.324730</td>\n",
       "      <td>-41.660793</td>\n",
       "      <td>9.0</td>\n",
       "      <td>-1</td>\n",
       "    </tr>\n",
       "    <tr>\n",
       "      <th>5</th>\n",
       "      <td>-41.593952</td>\n",
       "      <td>77.744614</td>\n",
       "      <td>2.0</td>\n",
       "      <td>4</td>\n",
       "    </tr>\n",
       "    <tr>\n",
       "      <th>6</th>\n",
       "      <td>-91.662285</td>\n",
       "      <td>-12.126204</td>\n",
       "      <td>1.0</td>\n",
       "      <td>7</td>\n",
       "    </tr>\n",
       "    <tr>\n",
       "      <th>7</th>\n",
       "      <td>6.932587</td>\n",
       "      <td>69.251534</td>\n",
       "      <td>3.0</td>\n",
       "      <td>8</td>\n",
       "    </tr>\n",
       "    <tr>\n",
       "      <th>8</th>\n",
       "      <td>-82.378654</td>\n",
       "      <td>-15.227177</td>\n",
       "      <td>1.0</td>\n",
       "      <td>7</td>\n",
       "    </tr>\n",
       "    <tr>\n",
       "      <th>9</th>\n",
       "      <td>13.855180</td>\n",
       "      <td>-36.795948</td>\n",
       "      <td>4.0</td>\n",
       "      <td>-1</td>\n",
       "    </tr>\n",
       "  </tbody>\n",
       "</table>\n",
       "</div>"
      ],
      "text/plain": [
       "           x          y  label  TSC_3227\n",
       "0  36.364452   0.234396    5.0         1\n",
       "1  73.174667  40.009937    0.0         0\n",
       "2  29.087975 -72.028297    4.0         2\n",
       "3 -62.729225  47.904079    1.0         7\n",
       "4 -16.324730 -41.660793    9.0        -1\n",
       "5 -41.593952  77.744614    2.0         4\n",
       "6 -91.662285 -12.126204    1.0         7\n",
       "7   6.932587  69.251534    3.0         8\n",
       "8 -82.378654 -15.227177    1.0         7\n",
       "9  13.855180 -36.795948    4.0        -1"
      ]
     },
     "execution_count": 16,
     "metadata": {},
     "output_type": "execute_result"
    }
   ],
   "source": [
    "two_factor['TSC_3227'] = two_factor['TSC_3227'].replace(mapped_clusters)\n",
    "two_factor.head(10)"
   ]
  },
  {
   "cell_type": "code",
   "execution_count": 15,
   "id": "443033a9",
   "metadata": {},
   "outputs": [
    {
     "name": "stdout",
     "output_type": "stream",
     "text": [
      "映射后的准确率: 0.7692\n"
     ]
    }
   ],
   "source": [
    "accuracy = np.mean(two_factor['TSC_3227'] == two_factor['label'])\n",
    "print(f\"映射后的准确率: {accuracy:.4f}\")"
   ]
  },
  {
   "cell_type": "code",
   "execution_count": 21,
   "id": "15e650bb",
   "metadata": {},
   "outputs": [
    {
     "name": "stdout",
     "output_type": "stream",
     "text": [
      "二阶聚类的轮廓系数: 0.1777\n"
     ]
    }
   ],
   "source": [
    "from sklearn.metrics import silhouette_score\n",
    "\n",
    "# 计算二阶聚类的轮廓系数\n",
    "silhouette_avg = silhouette_score(two_factor[['x', 'y']], two_factor['TSC_3227'])\n",
    "print(f\"二阶聚类的轮廓系数: {silhouette_avg:.4f}\")"
   ]
  },
  {
   "cell_type": "markdown",
   "id": "9b7c7a2f",
   "metadata": {},
   "source": [
    "# K-Means聚类"
   ]
  },
  {
   "cell_type": "code",
   "execution_count": 17,
   "id": "678d1e55",
   "metadata": {},
   "outputs": [
    {
     "data": {
      "text/html": [
       "<div>\n",
       "<style scoped>\n",
       "    .dataframe tbody tr th:only-of-type {\n",
       "        vertical-align: middle;\n",
       "    }\n",
       "\n",
       "    .dataframe tbody tr th {\n",
       "        vertical-align: top;\n",
       "    }\n",
       "\n",
       "    .dataframe thead th {\n",
       "        text-align: right;\n",
       "    }\n",
       "</style>\n",
       "<table border=\"1\" class=\"dataframe\">\n",
       "  <thead>\n",
       "    <tr style=\"text-align: right;\">\n",
       "      <th></th>\n",
       "      <th>x</th>\n",
       "      <th>y</th>\n",
       "      <th>label</th>\n",
       "      <th>QCL_1</th>\n",
       "    </tr>\n",
       "  </thead>\n",
       "  <tbody>\n",
       "    <tr>\n",
       "      <th>0</th>\n",
       "      <td>36.364452</td>\n",
       "      <td>0.234396</td>\n",
       "      <td>5.0</td>\n",
       "      <td>1</td>\n",
       "    </tr>\n",
       "    <tr>\n",
       "      <th>1</th>\n",
       "      <td>73.174667</td>\n",
       "      <td>40.009937</td>\n",
       "      <td>0.0</td>\n",
       "      <td>2</td>\n",
       "    </tr>\n",
       "    <tr>\n",
       "      <th>2</th>\n",
       "      <td>29.087975</td>\n",
       "      <td>-72.028297</td>\n",
       "      <td>4.0</td>\n",
       "      <td>3</td>\n",
       "    </tr>\n",
       "    <tr>\n",
       "      <th>3</th>\n",
       "      <td>-62.729225</td>\n",
       "      <td>47.904079</td>\n",
       "      <td>1.0</td>\n",
       "      <td>6</td>\n",
       "    </tr>\n",
       "    <tr>\n",
       "      <th>4</th>\n",
       "      <td>-16.324730</td>\n",
       "      <td>-41.660793</td>\n",
       "      <td>9.0</td>\n",
       "      <td>4</td>\n",
       "    </tr>\n",
       "  </tbody>\n",
       "</table>\n",
       "</div>"
      ],
      "text/plain": [
       "           x          y  label  QCL_1\n",
       "0  36.364452   0.234396    5.0      1\n",
       "1  73.174667  40.009937    0.0      2\n",
       "2  29.087975 -72.028297    4.0      3\n",
       "3 -62.729225  47.904079    1.0      6\n",
       "4 -16.324730 -41.660793    9.0      4"
      ]
     },
     "execution_count": 17,
     "metadata": {},
     "output_type": "execute_result"
    }
   ],
   "source": [
    "import pandas as pd\n",
    "import numpy as np\n",
    "k_means = pd.read_csv('spss_examine/k_means_cluster.csv')\n",
    "k_means.head()"
   ]
  },
  {
   "cell_type": "code",
   "execution_count": 18,
   "id": "4046f97e",
   "metadata": {},
   "outputs": [
    {
     "data": {
      "text/plain": [
       "{1: 5.0,\n",
       " 2: 0.0,\n",
       " 3: 4.0,\n",
       " 4: 9.0,\n",
       " 5: 7.0,\n",
       " 6: 2.0,\n",
       " 7: 1.0,\n",
       " 8: 3.0,\n",
       " 9: 8.0,\n",
       " 10: 6.0}"
      ]
     },
     "execution_count": 18,
     "metadata": {},
     "output_type": "execute_result"
    }
   ],
   "source": [
    "mapped_clusters = {}\n",
    "for cluster_id in range(1, 11):\n",
    "    cluster = k_means[k_means['QCL_1'] == cluster_id]['label'].tolist()\n",
    "    most_frequent = max(set(cluster), key=cluster.count)\n",
    "    mapped_clusters[cluster_id] = most_frequent\n",
    "mapped_clusters"
   ]
  },
  {
   "cell_type": "code",
   "execution_count": 19,
   "id": "ba8f178d",
   "metadata": {},
   "outputs": [
    {
     "data": {
      "text/html": [
       "<div>\n",
       "<style scoped>\n",
       "    .dataframe tbody tr th:only-of-type {\n",
       "        vertical-align: middle;\n",
       "    }\n",
       "\n",
       "    .dataframe tbody tr th {\n",
       "        vertical-align: top;\n",
       "    }\n",
       "\n",
       "    .dataframe thead th {\n",
       "        text-align: right;\n",
       "    }\n",
       "</style>\n",
       "<table border=\"1\" class=\"dataframe\">\n",
       "  <thead>\n",
       "    <tr style=\"text-align: right;\">\n",
       "      <th></th>\n",
       "      <th>x</th>\n",
       "      <th>y</th>\n",
       "      <th>label</th>\n",
       "      <th>QCL_1</th>\n",
       "    </tr>\n",
       "  </thead>\n",
       "  <tbody>\n",
       "    <tr>\n",
       "      <th>0</th>\n",
       "      <td>36.364452</td>\n",
       "      <td>0.234396</td>\n",
       "      <td>5.0</td>\n",
       "      <td>5</td>\n",
       "    </tr>\n",
       "    <tr>\n",
       "      <th>1</th>\n",
       "      <td>73.174667</td>\n",
       "      <td>40.009937</td>\n",
       "      <td>0.0</td>\n",
       "      <td>0</td>\n",
       "    </tr>\n",
       "    <tr>\n",
       "      <th>2</th>\n",
       "      <td>29.087975</td>\n",
       "      <td>-72.028297</td>\n",
       "      <td>4.0</td>\n",
       "      <td>4</td>\n",
       "    </tr>\n",
       "    <tr>\n",
       "      <th>3</th>\n",
       "      <td>-62.729225</td>\n",
       "      <td>47.904079</td>\n",
       "      <td>1.0</td>\n",
       "      <td>2</td>\n",
       "    </tr>\n",
       "    <tr>\n",
       "      <th>4</th>\n",
       "      <td>-16.324730</td>\n",
       "      <td>-41.660793</td>\n",
       "      <td>9.0</td>\n",
       "      <td>9</td>\n",
       "    </tr>\n",
       "    <tr>\n",
       "      <th>5</th>\n",
       "      <td>-41.593952</td>\n",
       "      <td>77.744614</td>\n",
       "      <td>2.0</td>\n",
       "      <td>2</td>\n",
       "    </tr>\n",
       "    <tr>\n",
       "      <th>6</th>\n",
       "      <td>-91.662285</td>\n",
       "      <td>-12.126204</td>\n",
       "      <td>1.0</td>\n",
       "      <td>1</td>\n",
       "    </tr>\n",
       "    <tr>\n",
       "      <th>7</th>\n",
       "      <td>6.932587</td>\n",
       "      <td>69.251534</td>\n",
       "      <td>3.0</td>\n",
       "      <td>3</td>\n",
       "    </tr>\n",
       "    <tr>\n",
       "      <th>8</th>\n",
       "      <td>-82.378654</td>\n",
       "      <td>-15.227177</td>\n",
       "      <td>1.0</td>\n",
       "      <td>1</td>\n",
       "    </tr>\n",
       "    <tr>\n",
       "      <th>9</th>\n",
       "      <td>13.855180</td>\n",
       "      <td>-36.795948</td>\n",
       "      <td>4.0</td>\n",
       "      <td>9</td>\n",
       "    </tr>\n",
       "  </tbody>\n",
       "</table>\n",
       "</div>"
      ],
      "text/plain": [
       "           x          y  label  QCL_1\n",
       "0  36.364452   0.234396    5.0      5\n",
       "1  73.174667  40.009937    0.0      0\n",
       "2  29.087975 -72.028297    4.0      4\n",
       "3 -62.729225  47.904079    1.0      2\n",
       "4 -16.324730 -41.660793    9.0      9\n",
       "5 -41.593952  77.744614    2.0      2\n",
       "6 -91.662285 -12.126204    1.0      1\n",
       "7   6.932587  69.251534    3.0      3\n",
       "8 -82.378654 -15.227177    1.0      1\n",
       "9  13.855180 -36.795948    4.0      9"
      ]
     },
     "execution_count": 19,
     "metadata": {},
     "output_type": "execute_result"
    }
   ],
   "source": [
    "k_means['QCL_1'] = k_means['QCL_1'].replace(mapped_clusters)\n",
    "k_means.head(10)"
   ]
  },
  {
   "cell_type": "code",
   "execution_count": 20,
   "id": "6e809ac4",
   "metadata": {},
   "outputs": [
    {
     "name": "stdout",
     "output_type": "stream",
     "text": [
      "映射后的准确率: 0.8500\n"
     ]
    }
   ],
   "source": [
    "accuracy = np.mean(k_means['QCL_1'] == k_means['label'])\n",
    "print(f\"映射后的准确率: {accuracy:.4f}\")"
   ]
  },
  {
   "cell_type": "code",
   "execution_count": 22,
   "id": "ceaf0bed",
   "metadata": {},
   "outputs": [
    {
     "name": "stdout",
     "output_type": "stream",
     "text": [
      "K-means聚类的轮廓系数: 0.4233\n"
     ]
    }
   ],
   "source": [
    "silhouette_avg_kmeans = silhouette_score(k_means[['x', 'y']], k_means['QCL_1'])\n",
    "print(f\"K-means聚类的轮廓系数: {silhouette_avg_kmeans:.4f}\")"
   ]
  },
  {
   "cell_type": "code",
   "execution_count": null,
   "id": "9e0ec2ba",
   "metadata": {},
   "outputs": [],
   "source": []
  }
 ],
 "metadata": {
  "kernelspec": {
   "display_name": "machine_learning",
   "language": "python",
   "name": "python3"
  },
  "language_info": {
   "codemirror_mode": {
    "name": "ipython",
    "version": 3
   },
   "file_extension": ".py",
   "mimetype": "text/x-python",
   "name": "python",
   "nbconvert_exporter": "python",
   "pygments_lexer": "ipython3",
   "version": "3.12.9"
  }
 },
 "nbformat": 4,
 "nbformat_minor": 5
}
