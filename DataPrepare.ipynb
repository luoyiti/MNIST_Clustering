{
 "cells": [
  {
   "cell_type": "markdown",
   "id": "c5bd521e",
   "metadata": {},
   "source": [
    "# 数据准备工作"
   ]
  },
  {
   "cell_type": "markdown",
   "id": "15928151",
   "metadata": {},
   "source": [
    "## 加载必要包"
   ]
  },
  {
   "cell_type": "code",
   "execution_count": null,
   "id": "4b21eeca",
   "metadata": {},
   "outputs": [],
   "source": [
    "import pandas as pd\n",
    "import numpy as np\n",
    "import matplotlib.pyplot as plt"
   ]
  },
  {
   "cell_type": "markdown",
   "id": "0090e4f8",
   "metadata": {},
   "source": [
    "## 导入数据"
   ]
  },
  {
   "cell_type": "code",
   "execution_count": null,
   "id": "a3ee9dbd",
   "metadata": {},
   "outputs": [],
   "source": [
    "mnist_train = pd.read_csv('data/mnist_train.csv', low_memory = False)\n",
    "mnist_test = pd.read_csv('data/mnist_test.csv', low_memory = False)\n",
    "mnist_train.head()"
   ]
  },
  {
   "cell_type": "code",
   "execution_count": null,
   "id": "3f166284",
   "metadata": {},
   "outputs": [],
   "source": [
    "print(mnist_train.shape)\n",
    "print(mnist_test.shape)"
   ]
  },
  {
   "cell_type": "markdown",
   "id": "7b664a90",
   "metadata": {},
   "source": [
    "## 数据探索"
   ]
  },
  {
   "cell_type": "markdown",
   "id": "6d0b2617",
   "metadata": {},
   "source": [
    "### 数据示例"
   ]
  },
  {
   "cell_type": "code",
   "execution_count": null,
   "id": "adb9a360",
   "metadata": {},
   "outputs": [],
   "source": [
    "X_train = mnist_train.drop(columns = 'label', axis = 1)\n",
    "y_train = mnist_train['label']"
   ]
  },
  {
   "cell_type": "code",
   "execution_count": null,
   "id": "1ff8d3d7",
   "metadata": {},
   "outputs": [],
   "source": [
    "# 随机选择一张图片\n",
    "single_image= X_train.to_numpy()[0].reshape(28, 28)\n",
    "plt.imshow(single_image, cmap='gray')\n",
    "print(y_train[0]) # 可见，图下展示的数字5的图像"
   ]
  },
  {
   "cell_type": "code",
   "execution_count": null,
   "id": "64bcec7d",
   "metadata": {},
   "outputs": [],
   "source": [
    "img = X_train.to_numpy()[0].reshape(28, 28)\n",
    "\n",
    "fig = plt.figure(figsize = (12,12)) \n",
    "ax = fig.add_subplot(111)\n",
    "ax.imshow(img, cmap='Blues_r')\n",
    "width, height = img.shape\n",
    "thresh = img.max()/2.5\n",
    "for x in range(width):\n",
    "    for y in range(height):\n",
    "        val = round(img[x][y],2) if img[x][y] !=0 else 0\n",
    "        ax.annotate(str(val), xy=(y,x),\n",
    "                    horizontalalignment='center',\n",
    "                    verticalalignment='center',\n",
    "                    color='white' if img[x][y]<thresh else 'black')\n",
    "plt.savefig('picture/mnist_example5.png', dpi=300, bbox_inches='tight')\n"
   ]
  },
  {
   "cell_type": "markdown",
   "id": "93bc6116",
   "metadata": {},
   "source": [
    "## 二维分布"
   ]
  },
  {
   "cell_type": "code",
   "execution_count": null,
   "id": "6179d4c1",
   "metadata": {},
   "outputs": [],
   "source": [
    "# 导入必要的库\n",
    "from sklearn import manifold\n",
    "\n",
    "# 创建t-SNE模型，设置为2维输出和固定随机种子以确保结果可复现\n",
    "tsne=  manifold.TSNE(n_components=2, random_state=42, n_jobs=-1)\n",
    "\n",
    "# 应用t-SNE降维\n",
    "transformed_data_array= tsne.fit_transform(X_train.to_numpy())\n",
    "\n",
    "# 获取对应的标签数据\n",
    "target=mnist_train.label\n",
    "target_array= target.to_numpy()\n",
    "\n",
    "# 将降维后的数据和标签组合成DataFrame\n",
    "# np.column_stack将二维坐标和标签合并为一个数组\n",
    "tsne_df= pd.DataFrame(np.column_stack((transformed_data_array, target_array)), \n",
    "                     columns=[\"x\",\"y\",\"label\"])\n",
    "\n",
    "# 确保标签列为整数类型\n",
    "tsne_df.loc[:,\"label\"] = tsne_df.label.astype(int)"
   ]
  },
  {
   "cell_type": "markdown",
   "id": "a5e4c939",
   "metadata": {},
   "source": [
    "### 排除异常点"
   ]
  },
  {
   "cell_type": "code",
   "execution_count": null,
   "id": "95739909",
   "metadata": {},
   "outputs": [],
   "source": [
    "from sklearn.neighbors import NearestNeighbors\n",
    "import numpy as np\n",
    "\n",
    "# 计算每个点到其k个最近邻的平均距离\n",
    "X = tsne_df[['x', 'y']].values\n",
    "k = 10  # 考虑的邻居数量\n",
    "nn = NearestNeighbors(n_neighbors=k)\n",
    "nn.fit(X)\n",
    "distances, _ = nn.kneighbors(X)\n",
    "avg_distances = distances[:, 1:].mean(axis=1)  # 排除自身距离\n",
    "\n",
    "# 设置距离阈值（可以根据分布调整）\n",
    "threshold = np.percentile(avg_distances, 95)  # 保留95%的点\n",
    "keep_mask = avg_distances <= threshold\n",
    "\n",
    "# 过滤数据\n",
    "filtered_tsne_df = tsne_df[keep_mask]\n",
    "\n",
    "print(f\"原始数据大小: {tsne_df.shape}\")\n",
    "print(f\"剔除离群点后的数据大小: {filtered_tsne_df.shape}\")"
   ]
  },
  {
   "cell_type": "code",
   "execution_count": null,
   "id": "59d43fcf",
   "metadata": {},
   "outputs": [],
   "source": [
    "import seaborn as sns \n",
    "grid = sns.FacetGrid(filtered_tsne_df, hue=\"label\", height=8)\n",
    "grid.map(plt.scatter,\"x\",\"y\").add_legend()\n",
    "grid.fig.suptitle(\"t-SNE visualization of MNIST dataset\", fontsize=16)\n",
    "plt.show()\n",
    "plt.savefig('picture/tsne_mnist.png', dpi=300, bbox_inches='tight')"
   ]
  },
  {
   "cell_type": "code",
   "execution_count": null,
   "id": "7bb09759",
   "metadata": {},
   "outputs": [],
   "source": [
    "# 保存 tsne_df 数据到 pickle 文件\n",
    "with open('tsne_data.pkl', 'wb') as f:\n",
    "    pickle.dump(tsne_df, f)\n",
    "print(\"数据已保存\")"
   ]
  }
 ],
 "metadata": {
  "kernelspec": {
   "display_name": "machine_learning",
   "language": "python",
   "name": "python3"
  },
  "language_info": {
   "codemirror_mode": {
    "name": "ipython",
    "version": 3
   },
   "file_extension": ".py",
   "mimetype": "text/x-python",
   "name": "python",
   "nbconvert_exporter": "python",
   "pygments_lexer": "ipython3",
   "version": "3.12.9"
  }
 },
 "nbformat": 4,
 "nbformat_minor": 5
}
